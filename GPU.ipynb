{
 "cells": [
  {
   "cell_type": "markdown",
   "metadata": {},
   "source": [
    "# Speed Up Model Training Using GPU\n",
    "## Offload computation tasks to decrease train time"
   ]
  },
  {
   "cell_type": "markdown",
   "metadata": {},
   "source": [
    "I have worked in the tech sector for over 20 yers.  During that time, I've worn numerous hats over numerous disciplines.  Recently, I decided to reboot my career from cloud infrastructure to data science.  As my journey progressed and I started working with more complex models, I became bothered by the constant waiting for my models to train, or worse hypertuning, (with GridsearchSV). <mark>rewrite this and the title for speeding up GridSearch</mark>"
   ]
  },
  {
   "cell_type": "markdown",
   "metadata": {},
   "source": [
    "Most advertisements referencing GPUs (or math coprocessors if you've been around that long) center around gamers.  As the GPUs are for number crunching, I decided to see how to offload my cmputation intensive python functions to the GPU.\n",
    "\n",
    "In researching, everything pouts to Nvidia and their Cuda Toolkit.  I was really disappointed to read that the toolkit was only for Nvidia GPU's.  I'm afraid my MacBook Pro doesn't fit that profile!  Regardless, I decided to give it the old 'college hack' to see if it would work."
   ]
  },
  {
   "cell_type": "markdown",
   "metadata": {},
   "source": [
    "![MacBook Pro](img/MacEnvironment.png)"
   ]
  },
  {
   "cell_type": "markdown",
   "metadata": {},
   "source": [
    "First, I strongly suggest that you setup a seperate environment to test this.  The last thing you want to do is trash your development environment and then have to reinstall everything.  I prefer to use Anaconda, so follow along to setup from the command line."
   ]
  },
  {
   "cell_type": "markdown",
   "metadata": {},
   "source": [
    "Before beginning, I would recommend that you read all release notes, installation notes, etc from Nvidia's website.  I am not following the installation guide from NVIDIA's webste.  And for the record, my `AMD Radeon Pro 560` is _**not**_ on the list of supported GPUs."
   ]
  },
  {
   "cell_type": "markdown",
   "metadata": {},
   "source": [
    "## Virtual Environment  \n",
    "First, let's check out our current conda environment and create the new environment for testing.  You may run these commands from a terminal window, or straight from a jupyter notebook.\n",
    "\n",
    "![](img/conda_env1.png)    \n",
    "\n",
    "As you can see, I have numerous environments already setup. I chose to install a new environment 'gpu-test' with python version 3.5.  I've had the least amount of package compatibility errors with 3.5.  \n",
    "\n",
    "![](img/conda_env2.png) \n",
    "\n",
    "After some time, you will be presented with a list of packages that will be downloaded and installed.  Type `y` to continue.\n",
    "\n",
    "![](img/conda_env3.png)  \n",
    "\n",
    "Once the installation is complete, activate the new environment that you just created.  You should notice the promt change to `gpu-test` (or whatever you named your environment)."
   ]
  },
  {
   "cell_type": "markdown",
   "metadata": {},
   "source": [
    "## Install Required Packages  \n",
    "We will need to install [numba](http://numba.pydata.org/) in addition to NVIDIA's CUDA Toolkit.  Numba is an open source JIT compiler that will translate our python functions (or jupyter cells) into code that will run fast on the GPU. \n",
    "\n",
    "To simplify the install, I will not go to NVIDIA's site to download the software, I will use conda instead.  Execute the following commands from the command line, or a jupyter notebook cell.  Notice that we are also installing the required packages for our environment to run a GridSearch on a Random Forrest Classifier using scikit-learn's iris dataset."
   ]
  },
  {
   "cell_type": "markdown",
   "metadata": {},
   "source": [
    "````python\n",
    "conda install -y numpy\n",
    "conda install -y pandas\n",
    "conda install -y scikit-learn\n",
    "conda install -y numba\n",
    "conda install -y cudatoolkit\n",
    "# export the environment so that they can import it\n",
    "\n",
    "````"
   ]
  },
  {
   "cell_type": "code",
   "execution_count": 6,
   "metadata": {},
   "outputs": [],
   "source": [
    "from numba import jit, cuda \n",
    "import numpy as np \n",
    "# to measure exec time \n",
    "from timeit import default_timer as timer\n",
    "# http://numba.pydata.org/numba-doc/0.17.0/user/jit.html\n",
    "# https://www.geeksforgeeks.org/running-python-script-on-gpu/"
   ]
  },
  {
   "cell_type": "code",
   "execution_count": 7,
   "metadata": {},
   "outputs": [],
   "source": [
    "# normal function to run on cpu \n",
    "def func(a):                                 \n",
    "    for i in range(10000000): \n",
    "        a[i]+= 1      "
   ]
  },
  {
   "cell_type": "code",
   "execution_count": 14,
   "metadata": {},
   "outputs": [],
   "source": [
    "# function optimized to run on gpu  \n",
    "@jit                           \n",
    "def func2(a): \n",
    "    for i in range(10000000): \n",
    "        a[i]+= 1"
   ]
  },
  {
   "cell_type": "code",
   "execution_count": 15,
   "metadata": {},
   "outputs": [
    {
     "name": "stdout",
     "output_type": "stream",
     "text": [
      "without GPU: 4.453358145999914\n",
      "with GPU: 0.36910695400001714\n"
     ]
    }
   ],
   "source": [
    "if __name__==\"__main__\": \n",
    "    n = 10000000                            \n",
    "    a = np.ones(n, dtype = np.float64) \n",
    "    b = np.ones(n, dtype = np.float32) \n",
    "      \n",
    "    start = timer() \n",
    "    func(a) \n",
    "    print(\"without GPU:\", timer()-start)     \n",
    "      \n",
    "    start = timer() \n",
    "    func2(a) \n",
    "    print(\"with GPU:\", timer()-start) "
   ]
  },
  {
   "cell_type": "code",
   "execution_count": 16,
   "metadata": {},
   "outputs": [
    {
     "data": {
      "text/plain": [
       "12.065224178896687"
      ]
     },
     "execution_count": 16,
     "metadata": {},
     "output_type": "execute_result"
    }
   ],
   "source": [
    "4.453358145999914 / 0.36910695400001714"
   ]
  }
 ],
 "metadata": {
  "kernelspec": {
   "display_name": "Python 3",
   "language": "python",
   "name": "python3"
  },
  "language_info": {
   "codemirror_mode": {
    "name": "ipython",
    "version": 3
   },
   "file_extension": ".py",
   "mimetype": "text/x-python",
   "name": "python",
   "nbconvert_exporter": "python",
   "pygments_lexer": "ipython3",
   "version": "3.7.0"
  }
 },
 "nbformat": 4,
 "nbformat_minor": 4
}
